{
  "nbformat": 4,
  "nbformat_minor": 0,
  "metadata": {
    "colab": {
      "provenance": [],
      "authorship_tag": "ABX9TyMTEf6Evjw0VC3GFd7xMYd2",
      "include_colab_link": true
    },
    "kernelspec": {
      "name": "python3",
      "display_name": "Python 3"
    },
    "language_info": {
      "name": "python"
    }
  },
  "cells": [
    {
      "cell_type": "markdown",
      "metadata": {
        "id": "view-in-github",
        "colab_type": "text"
      },
      "source": [
        "<a href=\"https://colab.research.google.com/github/Florencemon/ExercisesPython/blob/main/TareasPython_Clase5_BUCLES.ipynb\" target=\"_parent\"><img src=\"https://colab.research.google.com/assets/colab-badge.svg\" alt=\"Open In Colab\"/></a>"
      ]
    },
    {
      "cell_type": "code",
      "execution_count": 17,
      "metadata": {
        "colab": {
          "base_uri": "https://localhost:8080/"
        },
        "id": "w-oQN0uQv2Qn",
        "outputId": "5c98f8e5-4c33-4246-d25a-7bddfe7b651f"
      },
      "outputs": [
        {
          "output_type": "stream",
          "name": "stdout",
          "text": [
            "1\n",
            "2\n",
            "3\n",
            "4\n",
            "5\n",
            "6\n",
            "7\n",
            "8\n",
            "9\n",
            "10\n",
            "11\n",
            "12\n",
            "13\n",
            "14\n",
            "15\n",
            "16\n",
            "17\n",
            "18\n",
            "19\n",
            "20\n"
          ]
        }
      ],
      "source": [
        "#1. Escribir los números del 1 al 20.\n",
        "\n",
        "list = 1\n",
        "while list <= 20:\n",
        "  print(list)\n",
        "  list +=1\n",
        " "
      ]
    },
    {
      "cell_type": "code",
      "source": [
        "#1. (2da forma) Escribir los números del 1 al 20.\n",
        "\n",
        "for x in range (1,21):\n",
        "  print(x)\n"
      ],
      "metadata": {
        "colab": {
          "base_uri": "https://localhost:8080/"
        },
        "id": "-o0PFfF_WtgI",
        "outputId": "9bf9047e-dc61-435a-b460-57f5dac1f4d2"
      },
      "execution_count": 50,
      "outputs": [
        {
          "output_type": "stream",
          "name": "stdout",
          "text": [
            "1\n",
            "2\n",
            "3\n",
            "4\n",
            "5\n",
            "6\n",
            "7\n",
            "8\n",
            "9\n",
            "10\n",
            "11\n",
            "12\n",
            "13\n",
            "14\n",
            "15\n",
            "16\n",
            "17\n",
            "18\n",
            "19\n",
            "20\n"
          ]
        }
      ]
    },
    {
      "cell_type": "code",
      "source": [
        "#2. Escribir los múltiplos de 5 hasta el 100.\n",
        "list = 0\n",
        "while list <= 100:\n",
        "  print(list)\n",
        "  list +=5"
      ],
      "metadata": {
        "colab": {
          "base_uri": "https://localhost:8080/"
        },
        "id": "u20gUj6V9d4n",
        "outputId": "895745b0-c105-4686-aeb8-250f6a28ef75"
      },
      "execution_count": 30,
      "outputs": [
        {
          "output_type": "stream",
          "name": "stdout",
          "text": [
            "0\n",
            "5\n",
            "10\n",
            "15\n",
            "20\n",
            "25\n",
            "30\n",
            "35\n",
            "40\n",
            "45\n",
            "50\n",
            "55\n",
            "60\n",
            "65\n",
            "70\n",
            "75\n",
            "80\n",
            "85\n",
            "90\n",
            "95\n",
            "100\n"
          ]
        }
      ]
    },
    {
      "cell_type": "code",
      "source": [
        "#3. Pedir ingresar un número y mostrar el factorial de dicho número.\n",
        "       #    Obs.: El factorial de un número es el número multiplicado por todos los números positivos menores a él.\n",
        "                #    Ejm.: 5! = 5*4*3*2*1 = 120 \n",
        "\n",
        "list = 0\n",
        "while list <= 1:\n",
        "  print(list)\n",
        "  list +=5"
      ],
      "metadata": {
        "colab": {
          "base_uri": "https://localhost:8080/"
        },
        "id": "irGRPgao-DUo",
        "outputId": "887ecf55-dc59-43a0-eb4c-1443361c6b18"
      },
      "execution_count": 29,
      "outputs": [
        {
          "output_type": "stream",
          "name": "stdout",
          "text": [
            "0\n"
          ]
        }
      ]
    },
    {
      "cell_type": "code",
      "source": [
        "#4. Pedir un número entero de 4 dígitos y escribir el número al revés (tratar de hacerlo sin usar cadenas de texto).\n",
        "\n",
        "\n",
        "\n",
        "num4digitos = '1234'\n",
        "for letra in range (1,5):\n",
        "    print(num4digitos)\n",
        "\n",
        " "
      ],
      "metadata": {
        "colab": {
          "base_uri": "https://localhost:8080/"
        },
        "id": "0ddSeCU-Atx_",
        "outputId": "cc5d2216-1fe7-4773-ab8a-af24eac7ae46"
      },
      "execution_count": 49,
      "outputs": [
        {
          "output_type": "stream",
          "name": "stdout",
          "text": [
            "1234\n",
            "1234\n",
            "1234\n",
            "1234\n"
          ]
        }
      ]
    },
    {
      "cell_type": "markdown",
      "source": [],
      "metadata": {
        "id": "NuCHpIF7WI4m"
      }
    },
    {
      "cell_type": "code",
      "source": [
        "#5. Pedir un número e imprimir la cantidad de divisores que tiene."
      ],
      "metadata": {
        "id": "XRUzpHUt_qlk"
      },
      "execution_count": 46,
      "outputs": []
    },
    {
      "cell_type": "code",
      "source": [
        "#6 Pedir un número y analizar si dicho número es primo.\n",
        "       #    Obs.: Un número es primo si solo tiene dos divisores: 1 y el mismo número.\n",
        "                #    Ejm.: 7 es primo pero 8 no porque tiene como divisores a 1,2,4 y 8."
      ],
      "metadata": {
        "id": "FQAdAZW4YBg4"
      },
      "execution_count": null,
      "outputs": []
    },
    {
      "cell_type": "code",
      "source": [
        "#7. Pedir ingresar una palabra e imprimir la cantidad de vocales que tiene."
      ],
      "metadata": {
        "id": "M5lzJSwYYBmv"
      },
      "execution_count": null,
      "outputs": []
    },
    {
      "cell_type": "code",
      "source": [
        "#Vamos a dibujar un árbol de navidad. Construir un programa que pida ingresar la altura de un árbol y devuelva el árbol impreso con asteriscos (pueden usar cualquier otro símbolo)."
      ],
      "metadata": {
        "id": "JQGkE55_YLUJ"
      },
      "execution_count": 51,
      "outputs": []
    }
  ]
}