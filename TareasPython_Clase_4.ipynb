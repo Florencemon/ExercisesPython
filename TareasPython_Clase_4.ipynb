{
  "nbformat": 4,
  "nbformat_minor": 0,
  "metadata": {
    "colab": {
      "provenance": [],
      "authorship_tag": "ABX9TyMVv8iyLx4vFOmCtBz1VObC",
      "include_colab_link": true
    },
    "kernelspec": {
      "name": "python3",
      "display_name": "Python 3"
    },
    "language_info": {
      "name": "python"
    }
  },
  "cells": [
    {
      "cell_type": "markdown",
      "metadata": {
        "id": "view-in-github",
        "colab_type": "text"
      },
      "source": [
        "<a href=\"https://colab.research.google.com/github/Florencemon/ExercisesPython/blob/main/TareasPython_Clase_4.ipynb\" target=\"_parent\"><img src=\"https://colab.research.google.com/assets/colab-badge.svg\" alt=\"Open In Colab\"/></a>"
      ]
    },
    {
      "cell_type": "code",
      "execution_count": null,
      "metadata": {
        "id": "NOM0RTQtH52s"
      },
      "outputs": [],
      "source": [
        "#TAREA CLASE 4\n"
      ]
    },
    {
      "cell_type": "code",
      "source": [
        "#1. Escriba un programa que pida ingresar 2 números y que imprima el número mayor.\n",
        "\n",
        "primerValor = int(input(\"Ingrese un número: \"))\n",
        "segundoValor = int(input(\"Ingrese otro número: \"))\n",
        "\n",
        "\n",
        "if primerValor >  segundoValor:\n",
        "  print(\"El número mayor es: \", primerValor)\n",
        "else:\n",
        "  print(\"El número mayor es: \", segundoValor)\n",
        "\n",
        "\n"
      ],
      "metadata": {
        "colab": {
          "base_uri": "https://localhost:8080/"
        },
        "id": "X8K36pazH9cg",
        "outputId": "a9ba589a-5eb6-4e78-cb15-0ea5cd805ec5"
      },
      "execution_count": 9,
      "outputs": [
        {
          "output_type": "stream",
          "name": "stdout",
          "text": [
            "Ingrese un número: 9\n",
            "Ingrese otro número: 1\n",
            "El número mayor es:  9\n"
          ]
        }
      ]
    },
    {
      "cell_type": "code",
      "source": [
        "#2 Escriba un programa que pida crear un nombre de usuario y una contraseña. Luego, comprobar que la contraseña tiene más de 8 caracteres. De no ser el caso, dar un mensaje de error. \n",
        "\n",
        "usuario = input(\"Ingrese un nombre de usuario: \")\n",
        "contrasena = input(\"ingrese una contraseña (la contraseña debe contener más de 8 caractéres)\")\n",
        "\n",
        "if len(contrasena) < 8:\n",
        "  print (\"la contraseña es demasiado corta\")\n",
        "else:\n",
        "  print(\"Contraseña válida\")"
      ],
      "metadata": {
        "colab": {
          "base_uri": "https://localhost:8080/"
        },
        "id": "gDzGjk3_P7Hn",
        "outputId": "95bed0da-c25f-47ab-b89d-9002b1b82c6d"
      },
      "execution_count": 20,
      "outputs": [
        {
          "output_type": "stream",
          "name": "stdout",
          "text": [
            "Ingrese un nombre de usuario: 3\n",
            "ingrese una contraseña (la contraseña debe contener más de 8 caractéres)qwertyuiop\n",
            "Contraseña válida\n"
          ]
        }
      ]
    },
    {
      "cell_type": "code",
      "source": [
        "#3 Escriba un programa que pida ingresar un número entero y diga la cantidad de cifras que tiene. En el caso que el número tenga 4 cifras o más mostrar un mensaje diciendo: “Número muy grande.”\n",
        "\n",
        "numero = input(\"ingrese un número menor a 4 cifras: \")\n",
        "\n",
        "if len(numero)>4:\n",
        "  print(\"número demasiado largo\")\n",
        "else:\n",
        "  print(\"Número válido. El número tiene\", len(numero), \"dígitos\")"
      ],
      "metadata": {
        "colab": {
          "base_uri": "https://localhost:8080/"
        },
        "id": "zwEdrtVFR78X",
        "outputId": "1735d624-4c68-4f4e-9eb2-7d5f553fa0ac"
      },
      "execution_count": 24,
      "outputs": [
        {
          "output_type": "stream",
          "name": "stdout",
          "text": [
            "ingrese un número menor a 4 cifras: 78\n",
            "Número válido. El número tiene 2 dígitos\n"
          ]
        }
      ]
    },
    {
      "cell_type": "code",
      "source": [
        "#4 Escriba un programa que indique si un número es múltiplo de 3 o no.\n",
        "\n",
        "multiplode3 = int(input(\"ingrese un número múltiplo de 3: \"))   \n",
        "\n",
        "if(multiplode3 %3) != 0:\n",
        "  print(\"el número NO es múltiplo de 3\")\n",
        "else:\n",
        "  print(\"el número es múltiplo de 3\")"
      ],
      "metadata": {
        "colab": {
          "base_uri": "https://localhost:8080/"
        },
        "id": "ITp4AcOYSvpu",
        "outputId": "98e9234b-d6ff-43d5-c4a6-3f1099e8ab7c"
      },
      "execution_count": 36,
      "outputs": [
        {
          "output_type": "stream",
          "name": "stdout",
          "text": [
            "ingrese un número múltiplo de 3: 9\n",
            "el número es múltiplo de 3\n"
          ]
        }
      ]
    },
    {
      "cell_type": "code",
      "source": [
        "#5. Preguntar la edad a una persona y decidir en qué grado va a estar.\n",
        "\n",
        "    #   5 o menos --- Aún no estás en el colegio\n",
        "    #   6-11 --- 1ro - 6to primaria\n",
        "    #   12-16--- 1ro - 5to secundaria\n",
        "    #   17 o más --- Estás en la universidad\n",
        "\n",
        "edad = int(input(\"Ingrese su edad para ubicar su grado educacional:\"))\n",
        "\n",
        "if edad < 5:\n",
        "  print(\"Aún no estás en el colegio\")\n",
        "elif 6 <=edad <= 11:\n",
        "  print(\"1ro - 6to primaria\")\n",
        "elif 12 <=edad <= 17:\n",
        "  print(\"1ro - 5to secundaria\")\n",
        "elif  edad > 17:\n",
        "  print(\"Estás en la universidad\")\n"
      ],
      "metadata": {
        "colab": {
          "base_uri": "https://localhost:8080/"
        },
        "id": "Uc0-dd7AU7gl",
        "outputId": "61aceced-b3d3-4099-f17f-8a3170815def"
      },
      "execution_count": 44,
      "outputs": [
        {
          "output_type": "stream",
          "name": "stdout",
          "text": [
            "Ingrese su edad para ubicar su grado educacional:11\n",
            "1ro - 6to primaria\n"
          ]
        }
      ]
    },
    {
      "cell_type": "code",
      "source": [
        "#6. Pedir 3 números positivos y ordenarlos de menor a mayor.\n",
        "\n",
        "primerNumero = int(input(\"ingrese un número (debe ser un número positivo): \"))  \n",
        "segundoNumero = int(input(\"ingrese otro número (debe ser un número positivo): \"))  \n",
        "tercerNumero = int(input(\"ingrese un último número (debe ser un número positivo): \"))  \n",
        "\n",
        "if primerNumero < segundoNumero < tercerNumero:\n",
        "  print(primerNumero , segundoNumero , tercerNumero) \n",
        "elif segundoNumero < tercerNumero < primerNumero:\n",
        "  print(segundoNumero , tercerNumero, primerNumero) \n",
        "elif tercerNumero < primerNumero<segundoNumero:\n",
        "  print( tercerNumero, primerNumero,segundoNumero) \n",
        "elif primerNumero < tercerNumero < segundoNumero:\n",
        "  print(primerNumero , tercerNumero , segundoNumero) \n",
        "else:\n",
        "  print(tercerNumero , segundoNumero, primerNumero) "
      ],
      "metadata": {
        "colab": {
          "base_uri": "https://localhost:8080/"
        },
        "id": "ktDRFwetWhG2",
        "outputId": "40b4bdde-778f-4e81-895d-20e8b21dfef8"
      },
      "execution_count": 52,
      "outputs": [
        {
          "output_type": "stream",
          "name": "stdout",
          "text": [
            "ingrese un número (debe ser un número positivo): 3\n",
            "ingrese otro número (debe ser un número positivo): 5\n",
            "ingrese un último número (debe ser un número positivo): 7\n",
            "3 5 7\n"
          ]
        }
      ]
    },
    {
      "cell_type": "code",
      "source": [
        "#7. Pedir ingresar los lados de un triángulo e indicar de qué tipo es:\n",
        "    #   Isósceles: 2 lados iguales\n",
        "    #   Equilátero: 3 lados iguales\n",
        "    #   Escaleno: 0 lados iguales\n",
        "\n",
        "LadoA = int(input(\"ingrese la longitud del lado A del triángulo: \"))  \n",
        "LadoB = int(input(\"ingrese la longitud del lado B del triángulo: \")) \n",
        "LadoC = int(input(\"ingrese la longitud del lado C del triángulo: \")) \n",
        "\n",
        "\n",
        "if (LadoA == LadoB and LadoC != LadoA) or (LadoC == LadoB and LadoA != LadoC) or (LadoC == LadoA and LadoB != LadoC):\n",
        "  print(\"Es un triángulo Isósceles\")\n",
        "elif (LadoA == LadoB and LadoB == LadoC):\n",
        "  print(\"Es un triángulo Equilátero\")\n",
        "elif (LadoA != LadoB and LadoB != LadoC and LadoA != LadoC ):\n",
        "  print(\"Es un triángulo Escaleno\")\n"
      ],
      "metadata": {
        "colab": {
          "base_uri": "https://localhost:8080/"
        },
        "id": "zcPOq5SjjvVn",
        "outputId": "caa863f6-9594-4e34-e27b-23c308a20ba4"
      },
      "execution_count": 60,
      "outputs": [
        {
          "output_type": "stream",
          "name": "stdout",
          "text": [
            "ingrese la longitud del lado A del triángulo: 2\n",
            "ingrese la longitud del lado B del triángulo: 1\n",
            "ingrese la longitud del lado C del triángulo: 4\n",
            "Es un triángulo Escaleno\n"
          ]
        }
      ]
    },
    {
      "cell_type": "code",
      "source": [
        "# 8. Un postulante a un empleo, realiza un test de capacitación, se obtuvo la siguiente información: cantidad total de preguntas que se le realizaron y la cantidad de preguntas que contestó correctamente. \n",
        "#Se pide confeccionar un programa que ingrese los dos datos por teclado e informe el nivel del mismo según el porcentaje de respuestas correctas que ha obtenido, y sabiendo que:\n",
        "\n",
        "    #   Nivel máximo: Porcentaje>=90%.\n",
        "    #   Nivel medio: Porcentaje>=75% y <90%.\n",
        "    #   Nivel regular: Porcentaje>=50% y <75%.\n",
        "    #   Fuera de nivel: Porcentaje<50%.\n",
        "  \n",
        "preguntas =  int(input(\"ingrese la cantidad de preguntas que se le hicieron al usuario: \"))\n",
        "correctas = int(input(\"ingrese la cantidad de preguntas que el usuario respondió de forma correcta: \")) \n",
        "\n",
        "porcentaje = preguntas*(correctas/100)\n",
        "print(\"PORCENTAJE RTAS. CORRECTAS %: \",round(porcentaje)) #LA FUNCION ROUND REDONDEA LOS DECIMALES\n",
        "\n",
        "if porcentaje < 50.:\n",
        "  print(\"Fuera de nivel\")\n",
        "elif 50 <=porcentaje <= 75:\n",
        "  print(\"Nivel regular\")\n",
        "elif 75 <porcentaje <= 90:\n",
        "  print(\"Nivel medio\")\n",
        "elif  porcentaje > 90:\n",
        "  print(\"Nivel máximo\")\n",
        "\n"
      ],
      "metadata": {
        "colab": {
          "base_uri": "https://localhost:8080/"
        },
        "id": "XHpAilvuoI6v",
        "outputId": "ad314ecd-957c-406c-cc8c-d04fba272d24"
      },
      "execution_count": 81,
      "outputs": [
        {
          "output_type": "stream",
          "name": "stdout",
          "text": [
            "ingrese la cantidad de preguntas que se le hicieron al usuario: 100\n",
            "ingrese la cantidad de preguntas que el usuario respondió de forma correcta: 75\n",
            "PORCENTAJE RTAS. CORRECTAS %:  75\n",
            "Nivel regular\n"
          ]
        }
      ]
    },
    {
      "cell_type": "code",
      "source": [],
      "metadata": {
        "id": "28i5k7fBsuq-"
      },
      "execution_count": null,
      "outputs": []
    }
  ]
}