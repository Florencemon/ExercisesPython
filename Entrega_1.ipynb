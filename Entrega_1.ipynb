{
  "nbformat": 4,
  "nbformat_minor": 0,
  "metadata": {
    "colab": {
      "provenance": [],
      "authorship_tag": "ABX9TyPxbhHys6DI5QTyvHatWfK0",
      "include_colab_link": true
    },
    "kernelspec": {
      "name": "python3",
      "display_name": "Python 3"
    },
    "language_info": {
      "name": "python"
    }
  },
  "cells": [
    {
      "cell_type": "markdown",
      "metadata": {
        "id": "view-in-github",
        "colab_type": "text"
      },
      "source": [
        "<a href=\"https://colab.research.google.com/github/Florencemon/ExercisesPython/blob/main/Entrega_1.ipynb\" target=\"_parent\"><img src=\"https://colab.research.google.com/assets/colab-badge.svg\" alt=\"Open In Colab\"/></a>"
      ]
    },
    {
      "cell_type": "code",
      "execution_count": 14,
      "metadata": {
        "colab": {
          "base_uri": "https://localhost:8080/"
        },
        "id": "6whELX-pKpPL",
        "outputId": "ef052853-8ee1-456d-8f2b-e72b89a9effe"
      },
      "outputs": [
        {
          "output_type": "stream",
          "name": "stdout",
          "text": [
            "Ingrese nuevo nombre de usuario: flor\n",
            "Escriba la contraseña: f\n",
            "Ingrese nombre de usuario: flor\n",
            "Escriba la contraseña: f\n",
            "Bienvenido!\n"
          ]
        }
      ],
      "source": [
        "user = input(\"Ingrese nuevo nombre de usuario: \")\n",
        "password = input(\"Escriba la contraseña: \")\n",
        "\n",
        "\n",
        "  #if usuario == user:\n",
        "for i in range(2):\n",
        "     usuario = input(\"Ingrese nombre de usuario: \")\n",
        "     contrasenia = input(\"Escriba la contraseña: \")\n",
        "     if contrasenia == password and usuario == user:\n",
        "        print(\"Bienvenido!\")\n",
        "        break\n",
        "     else:\n",
        "          print (\"Contraseña o usuario inválido\")\n",
        "  \n"
      ]
    },
    {
      "cell_type": "code",
      "source": [],
      "metadata": {
        "id": "EF675diGT2pj"
      },
      "execution_count": null,
      "outputs": []
    }
  ]
}