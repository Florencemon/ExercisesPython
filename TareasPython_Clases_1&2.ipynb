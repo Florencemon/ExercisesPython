{
  "nbformat": 4,
  "nbformat_minor": 0,
  "metadata": {
    "colab": {
      "provenance": [],
      "authorship_tag": "ABX9TyNihDMfYlV7xFKXK+9fOcWj",
      "include_colab_link": true
    },
    "kernelspec": {
      "name": "python3",
      "display_name": "Python 3"
    },
    "language_info": {
      "name": "python"
    }
  },
  "cells": [
    {
      "cell_type": "markdown",
      "metadata": {
        "id": "view-in-github",
        "colab_type": "text"
      },
      "source": [
        "<a href=\"https://colab.research.google.com/github/Florencemon/ExercisesPython/blob/main/TareasPython_Clases_1%262.ipynb\" target=\"_parent\"><img src=\"https://colab.research.google.com/assets/colab-badge.svg\" alt=\"Open In Colab\"/></a>"
      ]
    },
    {
      "cell_type": "code",
      "execution_count": null,
      "metadata": {
        "id": "ZYDaAN2y5bm3",
        "colab": {
          "base_uri": "https://localhost:8080/"
        },
        "outputId": "f11a4f75-9698-4f7c-9f29-b7fbfc00c138"
      },
      "outputs": [
        {
          "output_type": "stream",
          "name": "stdout",
          "text": [
            "Hola, soy Flor!\n"
          ]
        }
      ],
      "source": [
        "print(\"Hola, soy Flor!\")"
      ]
    },
    {
      "cell_type": "code",
      "source": [
        "float=2 * 0.5\n",
        "int(float)"
      ],
      "metadata": {
        "colab": {
          "base_uri": "https://localhost:8080/"
        },
        "id": "MAFZB1cloaAc",
        "outputId": "43100e8a-2451-4509-aedd-0d1d27430009"
      },
      "execution_count": null,
      "outputs": [
        {
          "output_type": "execute_result",
          "data": {
            "text/plain": [
              "1"
            ]
          },
          "metadata": {},
          "execution_count": 6
        }
      ]
    },
    {
      "cell_type": "code",
      "source": [
        "#Division entera (omite los decimales)\n",
        "22//4\n",
        "99//10 #nos da el cociente\n",
        "10//3 \n"
      ],
      "metadata": {
        "colab": {
          "base_uri": "https://localhost:8080/"
        },
        "id": "qwVgCRwVqcP7",
        "outputId": "e22b3c5e-0768-4a52-c19c-793839faba4d"
      },
      "execution_count": null,
      "outputs": [
        {
          "output_type": "execute_result",
          "data": {
            "text/plain": [
              "3"
            ]
          },
          "metadata": {},
          "execution_count": 12
        }
      ]
    },
    {
      "cell_type": "code",
      "source": [
        "#Resto\n",
        "\n",
        "22%4\n",
        "99%10  #nos da el resto\n",
        "10%3\n",
        "\n"
      ],
      "metadata": {
        "id": "E11eP6H1q2ld"
      },
      "execution_count": null,
      "outputs": []
    },
    {
      "cell_type": "code",
      "source": [
        "#Cadenas de texto\n",
        "'esto es un texto'\n",
        "\n"
      ],
      "metadata": {
        "colab": {
          "base_uri": "https://localhost:8080/",
          "height": 35
        },
        "id": "T6hQOaTDquHh",
        "outputId": "ecf2ed8c-d4b7-4fc5-bc5e-0d1123deabc3"
      },
      "execution_count": null,
      "outputs": [
        {
          "output_type": "execute_result",
          "data": {
            "text/plain": [
              "'esto es un texto'"
            ],
            "application/vnd.google.colaboratory.intrinsic+json": {
              "type": "string"
            }
          },
          "metadata": {},
          "execution_count": 13
        }
      ]
    },
    {
      "cell_type": "code",
      "source": [
        "#Mostrar el texto en pantalla ----------- CADA PRINT ES UNA LÍNEA!\n",
        "print(\"texto\\n\") #es un comando para mostrar cadenas de caracteres\n",
        "print(100) #es un comando para mostrar números\n",
        "print(5-2*10)"
      ],
      "metadata": {
        "colab": {
          "base_uri": "https://localhost:8080/"
        },
        "id": "C58Dq4ODufA6",
        "outputId": "18574ef7-e079-4d80-80a8-b6c069c45b79"
      },
      "execution_count": null,
      "outputs": [
        {
          "output_type": "stream",
          "name": "stdout",
          "text": [
            "texto\n",
            "\n",
            "100\n",
            "-15\n"
          ]
        }
      ]
    },
    {
      "cell_type": "code",
      "source": [
        "#Adicionales \\\n",
        "print('Una cadena\\tcon tabulación')\n",
        "print('Otra cadena\\ncon salto de línea')"
      ],
      "metadata": {
        "colab": {
          "base_uri": "https://localhost:8080/"
        },
        "id": "H8KKhjDN5q0B",
        "outputId": "11f85b19-b3aa-42b8-8575-03875c014d66"
      },
      "execution_count": null,
      "outputs": [
        {
          "output_type": "stream",
          "name": "stdout",
          "text": [
            "Una cadena\tcon tabulación\n",
            "Otra cadena\n",
            "con salto de línea\n"
          ]
        }
      ]
    },
    {
      "cell_type": "code",
      "source": [
        "#raw string\n",
        "print(r\"C:\\Users\\Usuario\\OneDrive\\Escritorio\\Programacion\\Nuevo\")"
      ],
      "metadata": {
        "colab": {
          "base_uri": "https://localhost:8080/"
        },
        "id": "klg6mx_R6UBP",
        "outputId": "b6eb49d0-3ff9-48dc-97ee-e5c263a65fa5"
      },
      "execution_count": null,
      "outputs": [
        {
          "output_type": "stream",
          "name": "stdout",
          "text": [
            "C:\\Users\\Usuario\\OneDrive\\Escritorio\\Programacion\\Nuevo\n"
          ]
        }
      ]
    },
    {
      "cell_type": "code",
      "source": [
        "#3 comillas : CON UN SOLO PRINT SE MUESTRAN VARIAS LÍNEAS DE CADENAS\n",
        "print(\"\"\"una cadena\n",
        "otra cadena\n",
        "otra cadena más\n",
        "\"\"\")"
      ],
      "metadata": {
        "colab": {
          "base_uri": "https://localhost:8080/"
        },
        "id": "KtwQT6aV6gGr",
        "outputId": "17f6347b-6cea-47ab-ebae-6edac3d33a63"
      },
      "execution_count": null,
      "outputs": [
        {
          "output_type": "stream",
          "name": "stdout",
          "text": [
            "una cadena\n",
            "otra cadena\n",
            "otra cadena más\n",
            "\n"
          ]
        }
      ]
    },
    {
      "cell_type": "markdown",
      "source": [],
      "metadata": {
        "id": "2Wsw-na6queq"
      }
    },
    {
      "cell_type": "code",
      "source": [
        "#Ecuaciones matemáticas\n",
        "var = (x - 4 = 10)"
      ],
      "metadata": {
        "colab": {
          "base_uri": "https://localhost:8080/",
          "height": 130
        },
        "id": "7B_gQzDO7d8U",
        "outputId": "8ec6d1c8-7873-4657-8607-94ac2a55f16b"
      },
      "execution_count": null,
      "outputs": [
        {
          "output_type": "error",
          "ename": "SyntaxError",
          "evalue": "ignored",
          "traceback": [
            "\u001b[0;36m  File \u001b[0;32m\"<ipython-input-27-138b8f9cfba5>\"\u001b[0;36m, line \u001b[0;32m1\u001b[0m\n\u001b[0;31m    var = (x - 4 = 10)\u001b[0m\n\u001b[0m                 ^\u001b[0m\n\u001b[0;31mSyntaxError\u001b[0m\u001b[0;31m:\u001b[0m invalid syntax\n"
          ]
        }
      ]
    },
    {
      "cell_type": "code",
      "source": [
        "#Variables en Python \n",
        "#etiqueta      =   #dato\n",
        "participantes  =   \"cien\"\n",
        "nombre=\"Juan\"\n",
        "print(participantes + \" \" + nombre)"
      ],
      "metadata": {
        "colab": {
          "base_uri": "https://localhost:8080/"
        },
        "id": "SHNkkm2Y8BHt",
        "outputId": "6885d1e9-ed43-47b1-d4b5-e85a9f22cf42"
      },
      "execution_count": null,
      "outputs": [
        {
          "output_type": "stream",
          "name": "stdout",
          "text": [
            "cien Juan\n"
          ]
        }
      ]
    },
    {
      "cell_type": "code",
      "source": [
        "x=20\n",
        "print(X) #las variables son CaseSensitive (importan las mayúsculas)\n",
        "print(x)"
      ],
      "metadata": {
        "colab": {
          "base_uri": "https://localhost:8080/"
        },
        "id": "u5YRU6A6-BpW",
        "outputId": "1965de3a-26cb-48c9-883f-2230cdab6e37"
      },
      "execution_count": null,
      "outputs": [
        {
          "output_type": "stream",
          "name": "stdout",
          "text": [
            "20\n"
          ]
        }
      ]
    },
    {
      "cell_type": "code",
      "source": [
        "#Entrada de datos\n",
        "nombreActual = input(\"Dime tu nombre \")  #interactuar con el usuario\n",
        "#almacenar la info que me da el usuario\n",
        "print(\"Hola, \" + nombreActual)"
      ],
      "metadata": {
        "colab": {
          "base_uri": "https://localhost:8080/"
        },
        "id": "XglK8Que_JJy",
        "outputId": "b620f227-78dc-4f79-ef92-c2b47372b372"
      },
      "execution_count": null,
      "outputs": [
        {
          "output_type": "stream",
          "name": "stdout",
          "text": [
            "Dime tu nombre ji\n",
            "Hola, ji\n"
          ]
        }
      ]
    },
    {
      "cell_type": "code",
      "source": [
        "#Conversión de datos ingresados\n",
        "mi_edad = int(input(\"Dime tu edad: \")) # \"20\"\n",
        "print(mi_edad+10)"
      ],
      "metadata": {
        "colab": {
          "base_uri": "https://localhost:8080/"
        },
        "id": "dxvl9XJRCm0g",
        "outputId": "3018a7f2-f1e0-40db-a742-4ae20513f0cb"
      },
      "execution_count": null,
      "outputs": [
        {
          "output_type": "stream",
          "name": "stdout",
          "text": [
            "Dime tu edad: 55\n",
            "65\n"
          ]
        }
      ]
    },
    {
      "cell_type": "code",
      "source": [
        "#Desafío números\n",
        "partidosJugados = 20\n",
        "puntosPorPartidoGanado = 3\n",
        "puntosPorPartidoEmpatado = 1\n",
        "puntosPorPartidoPerdido = 0\n",
        "\n",
        "\n",
        "juegoGanado = int(input(\"¿Cuantos patidos ganó? \"))\n",
        "\n",
        "juegoEmpatado = int(input(\"\\n¿Cuantos patidos empató? \"))\n",
        "\n",
        "\n",
        "juegoPerdido = int(input(\"\\n¿Cuantos patidos perdió? \"))\n",
        "\n",
        "\n",
        "promedioPuntos = ((juegoGanado * puntosPorPartidoGanado) + (puntosPorPartidoEmpatado * juegoEmpatado) + (puntosPorPartidoPerdido * juegoPerdido)) / partidosJugados\n",
        "\n",
        "print(\"\\n\\nPUNTOS TOTAL: \", promedioPuntos)"
      ],
      "metadata": {
        "id": "Et5yeSXcIjwh"
      },
      "execution_count": null,
      "outputs": []
    },
    {
      "cell_type": "code",
      "source": [],
      "metadata": {
        "id": "suaYzgglC5o-"
      },
      "execution_count": null,
      "outputs": []
    },
    {
      "cell_type": "code",
      "source": [
        "from re import escape\n",
        "#DESAFIO STRING\n",
        "cadena_1  = \"versátil\" \n",
        "cadena_2  = \"Python\"   \n",
        "cadena_3  = \"es un lenguaje\" \n",
        "cadena_4  = \"de programación\"  \n",
        "espacio = \" \"\n",
        "\n",
        "# print(cadena_2 + espacio + cadena_3 + espacio + cadena_4+ espacio+ cadena_1)\n",
        "print(cadena_2, cadena_3, cadena_4, cadena_1)"
      ],
      "metadata": {
        "colab": {
          "base_uri": "https://localhost:8080/"
        },
        "id": "FYeFAVpdEuNC",
        "outputId": "31afc142-6048-47bd-81e1-4ff5e4ea092d"
      },
      "execution_count": null,
      "outputs": [
        {
          "output_type": "stream",
          "name": "stdout",
          "text": [
            "Python es un lenguaje de programación versátil\n"
          ]
        }
      ]
    },
    {
      "cell_type": "code",
      "source": [
        "cadena = 'python'\n",
        "lista = cadena[0:4:2]\n",
        "print(lista)"
      ],
      "metadata": {
        "colab": {
          "base_uri": "https://localhost:8080/"
        },
        "id": "w78ZMLCJC5vh",
        "outputId": "e7d6fe12-22db-44c7-a611-d4c8925d39ef"
      },
      "execution_count": null,
      "outputs": [
        {
          "output_type": "stream",
          "name": "stdout",
          "text": [
            "pt\n"
          ]
        }
      ]
    },
    {
      "cell_type": "code",
      "source": [
        "#Largo de longitud de strings\n",
        "frase = \"¡Muy bien! Has leído todos tus mensajes de Recibidos.\"\n",
        "len(frase)\n"
      ],
      "metadata": {
        "colab": {
          "base_uri": "https://localhost:8080/"
        },
        "id": "hwP8ZdhxzSXh",
        "outputId": "f06c99af-563a-4b2d-abbc-3e83975d7d0f"
      },
      "execution_count": null,
      "outputs": [
        {
          "output_type": "execute_result",
          "data": {
            "text/plain": [
              "53"
            ]
          },
          "metadata": {},
          "execution_count": 2
        }
      ]
    },
    {
      "cell_type": "code",
      "source": [
        "# Slicing de strings\n",
        "frase = \"¡Muy bien! Has leído todos tus mensajes de Recibidos.\"\n",
        "#1er modo\n",
        "frase[0:25]"
      ],
      "metadata": {
        "colab": {
          "base_uri": "https://localhost:8080/",
          "height": 35
        },
        "id": "iYAWXGpAzyov",
        "outputId": "5967a055-97ca-4a31-84fa-c48a1642dd3b"
      },
      "execution_count": null,
      "outputs": [
        {
          "output_type": "execute_result",
          "data": {
            "text/plain": [
              "'¡Muy bien! Has leído todo'"
            ],
            "application/vnd.google.colaboratory.intrinsic+json": {
              "type": "string"
            }
          },
          "metadata": {},
          "execution_count": 4
        }
      ]
    },
    {
      "cell_type": "code",
      "source": [
        "cadena = \"acitametaM ,5.8 ,otipeP ordeP\"\n",
        "len(cadena)"
      ],
      "metadata": {
        "colab": {
          "base_uri": "https://localhost:8080/"
        },
        "id": "AMYtzYDS63Du",
        "outputId": "2226df9a-4e70-4f1a-c6b5-9f96bb4c23e8"
      },
      "execution_count": null,
      "outputs": [
        {
          "output_type": "execute_result",
          "data": {
            "text/plain": [
              "29"
            ]
          },
          "metadata": {},
          "execution_count": 6
        }
      ]
    },
    {
      "cell_type": "code",
      "source": [
        "cadena = \"acitametaM ,5.8 ,otipeP ordeP\"\n",
        "cadena_volteada = cadena[::-1] #Un beneficio del Slice"
      ],
      "metadata": {
        "colab": {
          "base_uri": "https://localhost:8080/",
          "height": 35
        },
        "outputId": "2895b8cf-e1ca-4f2f-ab48-c29e7c400a94",
        "id": "Wk6v-9nH7Om1"
      },
      "execution_count": null,
      "outputs": [
        {
          "output_type": "execute_result",
          "data": {
            "text/plain": [
              "'Pedro Pepito, 8.5, Matematica'"
            ],
            "application/vnd.google.colaboratory.intrinsic+json": {
              "type": "string"
            }
          },
          "metadata": {},
          "execution_count": 13
        }
      ]
    }
  ]
}